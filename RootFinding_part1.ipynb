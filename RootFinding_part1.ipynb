{
 "cells": [
  {
   "cell_type": "markdown",
   "metadata": {},
   "source": [
    "## Root Finding\n",
    "\n",
    "Root finding refers to the general problem of searching for a solution or solutions $x$ of equations $F(x)=0$.\n",
    "\n",
    "We already considered examples of this, when we looked at functions of the form $f'(x)=0$ where we were determining minima (or maxima). These can also be cast in the form $f'(x) = F(x) = 0$.\n",
    "\n",
    "For quadratic polynomials there is a straightforward expression for the roots, and similar (though increasingly much more complicated) expressions exist for ones of order 3 and 4.\n",
    "\n",
    "We will focus on the bisection method, Newton's method and Brent's method, since they are quite representative of the algoritms available. As well as reading the python documentation, e.g. from scipy, here are a couple of resources that are quite helpful:\n",
    "\n",
    "https://www.brianheinold.net/notes/An_Intuitive_Guide_to_Numerical_Methods_Heinold.pdf\n",
    "\n",
    "https://computingskillset.com/category/solving-equations/\n",
    "\n",
    "Let us motivate seeking roots with an example from physics:\n",
    "consider the Planck function that describes black-body electromagnetic radiation. Here we cast this as a function of wavelength and temperature:\n",
    "\n",
    "$B(\\lambda,T) =\\frac{2 hc^2}{\\lambda^5}\\frac{1}{ e^{\\frac{hc}{\\lambda kT}}-1}$\n",
    "\n",
    "where $h, c, k$ are the Planck const, speed of light and Boltzmann const respectively. $T, \\lambda$ are the effective black-body temperature and wavelength of radiation respectively.\n",
    "\n",
    "For a source of a particular $T$, at what wavelength is the spectral radiance $B$ a maximum? Instead of using an algorithm to directly determine the maximum, we are going to differentiate $B$ with respect to $\\lambda$ and then solve for the root of that equation.\n",
    "\n",
    "First of all, plot the function. Let us take an example with T=5800K... This is roughly the effective temperature of the sun, when modeled as a black body emitter.\n",
    "\n",
    "The function is maximised where $dB/d\\lambda = 0$; we could  use a substitution $x = hc/\\lambda kT$ and work through analytically, or just use sympy on the full expression as in the cell after next. We also plot this derivative."
   ]
  },
  {
   "cell_type": "code",
   "execution_count": 2,
   "metadata": {},
   "outputs": [
    {
     "data": {
      "text/plain": [
       "<Figure size 640x480 with 1 Axes>"
      ]
     },
     "metadata": {},
     "output_type": "display_data"
    },
    {
     "data": {
      "text/plain": [
       "<Figure size 640x480 with 1 Axes>"
      ]
     },
     "metadata": {},
     "output_type": "display_data"
    }
   ],
   "source": [
    "import numpy as np\n",
    "import scipy.constants as const\n",
    "import scipy.optimize as opt\n",
    "import matplotlib.pyplot as plt\n",
    "\n",
    "pi=const.pi\n",
    "c=const.c\n",
    "h=const.h\n",
    "k=const.k\n",
    "\n",
    "def planck(lam,T):\n",
    "    numer=2*h*c*c/(lam**5)\n",
    "    denom=np.exp((h*c)/(lam*k*T))-1.0\n",
    "    return numer/denom\n",
    "\n",
    "lam = np.linspace(1E-7,3E-6,1000)\n",
    "\n",
    "specsun=planck(lam,5800)\n",
    "\n",
    "fig,ax=plt.subplots()\n",
    "ax.plot(lam,specsun)\n",
    "ax.set(xlabel= '$\\lambda[m]$', ylabel='$B_{\\lambda} \\, [\\mathrm{W \\, m^{-3} \\, ster^{-1}}]$')\n",
    "ax.grid()\n",
    "plt.show()\n",
    "\n",
    "# I got this expression using sympy - pasting here and using \n",
    "# substitute np.exp\n",
    "def planckdiff(l,T):\n",
    "    return c**2*h*(-10.0/(l**6*(np.exp(c*h/(T*k*l)) - 1.0)) + 2.0*c*h*np.exp(c*h/(T*k*l))/(T*k*l**7*(np.exp(c*h/(T*k*l)) - 1.0)**2))\n",
    "\n",
    "\n",
    "l = np.linspace(1E-7,3E-6,1000)\n",
    "\n",
    "specsundiff=planckdiff(l,5800)\n",
    "\n",
    "fig,ax=plt.subplots()\n",
    "ax.plot(l,specsundiff)\n",
    "ax.set(xlabel= '$\\lambda[m]$', ylabel='$dB/d\\lambda$')\n",
    "ax.grid()\n",
    "plt.show()"
   ]
  },
  {
   "cell_type": "markdown",
   "metadata": {},
   "source": [
    "The cell below uses sympy to do the differentiation. I took the output and pasted it in the cell above."
   ]
  },
  {
   "cell_type": "code",
   "execution_count": 3,
   "metadata": {},
   "outputs": [
    {
     "name": "stdout",
     "output_type": "stream",
     "text": [
      "c**2*h*(-10.0/(l**6*(exp(c*h/(T*k*l)) - 1.0)) + 2.0*c*h*exp(c*h/(T*k*l))/(T*k*l**7*(exp(c*h/(T*k*l)) - 1.0)**2))\n"
     ]
    }
   ],
   "source": [
    "import sympy as symp\n",
    "\n",
    "h, c, k, T, x, l = symp.symbols('h c k T x l')\n",
    "\n",
    "Bdiff1=symp.diff(1.0/(l**5*(symp.exp(h*c/(l*k*T))-1.0)),l)\n",
    "\n",
    "Bdiff=Bdiff1*2*c*c*h\n",
    "\n",
    "print(Bdiff)"
   ]
  },
  {
   "cell_type": "markdown",
   "metadata": {},
   "source": [
    "Comments: Maximum of $B$ is around 0.5E-6 m in the case T=5800K, and this also coincides with zero of $dB/d\\lambda$. \n",
    "\n",
    "NB It is good to graph functions to check whether e.g. there are multiple roots or singularities and also that the numerical solutions that we get for root(s) look OK!"
   ]
  },
  {
   "cell_type": "markdown",
   "metadata": {},
   "source": [
    "Now to solve the black body problem a bit more accurately... there are lots of different methods that can be used - here we will consider a few examples - bisection algorithm, Newton's method and Brent's method.\n",
    "\n",
    "NB As. mentioned earlier, this particular problem could also be solved by reversing the sign of $B$ and directly determining a minimum (using gradient descent etc)... But we want to illustrate root finding in general, and will also apply it to other problems! \n",
    "\n",
    "This might sound obvious but the first thing to do is to recast any problem into the form $F(x)=0$; e.g. if I have $3sin(x^2)-4cos(x.exp(x/10))= 2$\n",
    "and need to find the roots, I need to write $3sin(x^2)-4cos(x.exp(x/10))-2=0$.\n",
    "\n",
    "ALGORITHM 1: Bisection algorithm\n",
    "\n",
    "As we discussed in class, this algorithm proceeds as follows:\n",
    "\n",
    "1) Given that two points a and b bracket a root means F(a) and F(b) have opposite signs. Take the point half way between them: h = (a+b)/2, and evaluate F(h).\n",
    "\n",
    "2) If F(h) is within some specified tolerance of 0, then we have found the root - end.\n",
    "\n",
    "3) If not within specified tolerance, check if F(h) and F(a) have opposite signs. If so, there must be a root between x = a and x = h, so set b = h and go back to step 1.\n",
    "\n",
    "4) If F(h) and F(a) have the same sign, then F(h) and F(b) must have opposite signs (since F(a) and F(b) have opposite signs). Thus there must be a root between h and b, so set a = h and go back to step 1.\n",
    "\n",
    "We will use a very simple bisection algorithm (relying on a large enough number of iterations and not even setting a tolerance parameter etc.) and apply it first to a couple of simple problems. Then we look at the corresponding bisection algorithm from scipy.optimize.\n",
    "\n",
    "!Read the documentation for scipy.optimize.bisect!\n"
   ]
  },
  {
   "cell_type": "code",
   "execution_count": 4,
   "metadata": {},
   "outputs": [
    {
     "name": "stdout",
     "output_type": "stream",
     "text": [
      "func root simple algo.  1.7320508062839508\n",
      "func root scipy algo. root  1.7320508075699763\n"
     ]
    },
    {
     "data": {
      "image/png": "[encoded data removed]",
      "text/plain": [
       "<Figure size 432x288 with 1 Axes>"
      ]
     },
     "metadata": {
      "needs_background": "light"
     },
     "output_type": "display_data"
    },
    {
     "name": "stdout",
     "output_type": "stream",
     "text": [
      "func2, simple algo. root  2.671699881656423\n",
      "func2, scipy root  2.671699881657787\n",
      "func2, simple algo. root  1.0004587801479136e-12\n",
      "func2, scipy root  0.0\n",
      "simple bisection gives B max at  4.99616026878357e-07  m\n",
      "scipy optimize bisect gives B max at  4.996170043945313e-07  m\n"
     ]
    }
   ],
   "source": [
    "#very simple algorithm; \n",
    "#a and b should bracket the root as described above\n",
    "def bisection(F, a, b, n): \n",
    "    for i in range(n):\n",
    "        h = (a + b) / 2 \n",
    "        if F(a)*F(h) < 0:\n",
    "            b=h \n",
    "        else:\n",
    "            a=h \n",
    "    return h\n",
    "\n",
    "#first of all, a simple equation x^2=3 -> x^2-3=0\n",
    "\n",
    "def func(x):\n",
    "    return (x**2)-3\n",
    "\n",
    "# use simple algorithm with 25 iterations - you can experiment with this! \n",
    "\n",
    "print('func root simple algo. ',bisection(func, 1,2,25))\n",
    "\n",
    "#using algorithm directly from scipy\n",
    "\n",
    "print('func root scipy algo. root ', opt.bisect(func,1,2))\n",
    "\n",
    "#another polynomial example \n",
    "\n",
    "def func2(x):\n",
    "    return x**4 - 3*x**3 + 2*x**2 -3*x\n",
    "\n",
    "#note, have to provide values bracketing the root(s)...\n",
    "#can make a plot - using this way below, or by commenting out\n",
    "# ax.plot(x,x**4....) and uncommenting other 2 lines indicated\n",
    "# NB you might in practice have to adjust the range to see functions\n",
    "# properly!\n",
    "\n",
    "x=np.linspace(-2,4,1000)\n",
    "##uncomment for method 2 of plotting\n",
    "## func2plot=func2(x)\n",
    "fig, ax = plt.subplots()\n",
    "ax.plot(x,x**4 - 3*x**3 + 2*x**2 -3*x)\n",
    "##uncomment for method 2 of plotting\n",
    "##ax.plot(x,func2plot)\n",
    "ax.set(xlabel='x', ylabel='func2(x)')\n",
    "ax.grid()\n",
    "plt.show()\n",
    "\n",
    "#there is a trivial root at x=0; note the simple bisection algo. fails\n",
    "# easily for this root (e.g. if I bracket -1,1), so if we were going further\n",
    "# it would need to be modified some! Using n=40 for simple algo.\n",
    "# check options available in opt.bisect!\n",
    "\n",
    "print('func2, simple algo. root ', bisection(func2, 1,4,40))\n",
    "print('func2, scipy root ', opt.bisect(func2,1,4))\n",
    "\n",
    "print('func2, simple algo. root ', bisection(func2, -1,0.9,40))\n",
    "print('func2, scipy root ', opt.bisect(func2,-1,1))\n",
    "\n",
    "#now let us apply the simple and scipy routines to\n",
    "# our black-body problem\n",
    "pi=const.pi\n",
    "c=const.c\n",
    "h=const.h\n",
    "k=const.k\n",
    "T=5800\n",
    "\n",
    "#again set bracketing values by looking at our plot of bB/dl\n",
    "#(I'm calling lambda -> l) and I'm just restating dB/dl as a\n",
    "#function of l, with T fixed as above.\n",
    "\n",
    "def planckdiff2(l):\n",
    "    return c**2*h*(-10.0/(l**6*(np.exp(c*h/(T*k*l)) - 1.0)) + 2.0*c*h*np.exp(c*h/(T*k*l))/(T*k*l**7*(np.exp(c*h/(T*k*l)) - 1.0)**2))\n",
    "\n",
    "print('simple bisection gives B max at ', bisection(planckdiff2,0.2e-06,1e-06,25), ' m')\n",
    "print('scipy optimize bisect gives B max at ', opt.bisect(planckdiff2,0.2e-06,1e-06), ' m')"
   ]
  },
  {
   "cell_type": "markdown",
   "metadata": {},
   "source": [
    "Note that we have to pick initial bracketing values of $\\lambda$ where the sign changes! One way is to plot the function, like we discussed. There is also a \"bracket\" routine in scipy that will automatically do this part...."
   ]
  }
 ],
 "metadata": {
  "kernelspec": {
   "display_name": "Python 3",
   "language": "python",
   "name": "python3"
  },
  "language_info": {
   "codemirror_mode": {
    "name": "ipython",
    "version": 3
   },
   "file_extension": ".py",
   "mimetype": "text/x-python",
   "name": "python",
   "nbconvert_exporter": "python",
   "pygments_lexer": "ipython3",
   "version": "3.7.4"
  }
 },
 "nbformat": 4,
 "nbformat_minor": 4
}
